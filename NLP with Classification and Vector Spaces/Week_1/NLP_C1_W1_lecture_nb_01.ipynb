{
 "cells": [
  {
   "cell_type": "markdown",
   "metadata": {},
   "source": [
    "# Preprocessing\n",
    "\n",
    "In this lab, we will be exploring how to preprocess tweets for sentiment analysis. We will provide a function for preprocessing tweets during this week's assignment, but it is still good to know what is going on under the hood. By the end of this lecture, you will see how to use the [NLTK](http://www.nltk.org) package to perform a preprocessing pipeline for Twitter datasets."
   ]
  },
  {
   "cell_type": "markdown",
   "metadata": {},
   "source": [
    "## Setup\n",
    "\n",
    "You will be doing sentiment analysis on tweets in the first two weeks of this course. To help with that, we will be using the [Natural Language Toolkit (NLTK)](http://www.nltk.org/howto/twitter.html) package, an open-source Python library for natural language processing. It has modules for collecting, handling, and processing Twitter data, and you will be acquainted with them as we move along the course.\n",
    "\n",
    "For this exercise, we will use a Twitter dataset that comes with NLTK. This dataset has been manually annotated and serves to establish baselines for models quickly. Let us import them now as well as a few other libraries we will be using."
   ]
  },
  {
   "cell_type": "code",
   "execution_count": 1,
   "metadata": {},
   "outputs": [],
   "source": [
    "import nltk                                # Python library for NLP\n",
    "from nltk.corpus import twitter_samples    # sample Twitter dataset from NLTK\n",
    "import matplotlib.pyplot as plt            # library for visualization\n",
    "import random                              # pseudo-random number generator"
   ]
  },
  {
   "cell_type": "markdown",
   "metadata": {},
   "source": [
    "## About the Twitter dataset\n",
    "\n",
    "The sample dataset from NLTK is separated into positive and negative tweets. It contains 5000 positive tweets and 5000 negative tweets exactly. The exact match between these classes is not a coincidence. The intention is to have a balanced dataset. That does not reflect the real distributions of positive and negative classes in live Twitter streams. It is just because balanced datasets simplify the design of most computational methods that are required for sentiment analysis. However, it is better to be aware that this balance of classes is artificial. \n",
    "\n",
    "The dataset is already downloaded in the Coursera workspace. In a local computer however, you can download the data by doing:"
   ]
  },
  {
   "cell_type": "code",
   "execution_count": null,
   "metadata": {},
   "outputs": [],
   "source": [
    "# downloads sample twitter dataset. uncomment the line below if running on a local machine.\n",
    "# nltk.download('twitter_samples')"
   ]
  },
  {
   "cell_type": "markdown",
   "metadata": {},
   "source": [
    "We can load the text fields of the positive and negative tweets by using the module's `strings()` method like this:"
   ]
  },
  {
   "cell_type": "code",
   "execution_count": 6,
   "metadata": {},
   "outputs": [],
   "source": [
    "# select the set of positive and negative tweets\n",
    "all_positive_tweets = twitter_samples.strings('positive_tweets.json')\n",
    "all_negative_tweets = twitter_samples.strings('negative_tweets.json')"
   ]
  },
  {
   "cell_type": "markdown",
   "metadata": {},
   "source": [
    "Next, we'll print a report with the number of positive and negative tweets. It is also essential to know the data structure of the datasets"
   ]
  },
  {
   "cell_type": "code",
   "execution_count": 8,
   "metadata": {},
   "outputs": [
    {
     "name": "stdout",
     "output_type": "stream",
     "text": [
      "Number of positive tweets:  5000\n",
      "Number of negative tweets:  5000\n",
      "\n",
      "The type of all_positive_tweets is:  <class 'list'>\n",
      "The type of a tweet entry is:  <class 'str'>\n"
     ]
    }
   ],
   "source": [
    "print('Number of positive tweets: ', len(all_positive_tweets))\n",
    "print('Number of negative tweets: ', len(all_negative_tweets))\n",
    "\n",
    "print('\\nThe type of all_positive_tweets is: ', type(all_positive_tweets))\n",
    "print('The type of a tweet entry is: ', type(all_negative_tweets[0]))"
   ]
  },
  {
   "cell_type": "markdown",
   "metadata": {},
   "source": [
    "We can see that the data is stored in a list and as you might expect, individual tweets are stored as strings.\n",
    "\n",
    "You can make a more visually appealing report by using Matplotlib's [pyplot](https://matplotlib.org/tutorials/introductory/pyplot.html) library. Let us see how to create a [pie chart](https://matplotlib.org/3.2.1/gallery/pie_and_polar_charts/pie_features.html#sphx-glr-gallery-pie-and-polar-charts-pie-features-py) to show the same information as above. This simple snippet will serve you in future visualizations of this kind of data."
   ]
  },
  {
   "cell_type": "code",
   "execution_count": 9,
   "metadata": {},
   "outputs": [
    {
     "data": {
      "image/png": "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