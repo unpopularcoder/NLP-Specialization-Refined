{
 "cells": [
  {
   "cell_type": "markdown",
   "metadata": {},
   "source": [
    "# Preprocessing\n",
    "\n",
    "In this lab, we will be exploring how to preprocess tweets for sentiment analysis. We will provide a function for preprocessing tweets during this week's assignment, but it is still good to know what is going on under the hood. By the end of this lecture, you will see how to use the [NLTK](http://www.nltk.org) package to perform a preprocessing pipeline for Twitter datasets."
   ]
  },
  {
   "cell_type": "markdown",
   "metadata": {},
   "source": [
    "## Setup\n",
    "\n",
    "You will be doing sentiment analysis on tweets in the first two weeks of this course. To help with that, we will be using the [Natural Language Toolkit (NLTK)](http://www.nltk.org/howto/twitter.html) package, an open-source Python library for natural language processing. It has modules for collecting, handling, and processing Twitter data, and you will be acquainted with them as we move along the course.\n",
    "\n",
    "For this exercise, we will use a Twitter dataset that comes with NLTK. This dataset has been manually annotated and serves to establish baselines for models quickly. Let us import them now as well as a few other libraries we will be using."
   ]
  },
  {
   "cell_type": "code",
   "execution_count": 1,
   "metadata": {},
   "outputs": [],
   "source": [
    "import nltk                                # Python library for NLP\n",
    "from nltk.corpus import twitter_samples    # sample Twitter dataset from NLTK\n",
    "import matplotlib.pyplot as plt            # library for visualization\n",
    "import random                              # pseudo-random number generator"
   ]
  },
  {
   "cell_type": "markdown",
   "metadata": {},
   "source": [
    "## About the Twitter dataset\n",
    "\n",
    "The sample dataset from NLTK is separated into positive and negative tweets. It contains 5000 positive tweets and 5000 negative tweets exactly. The exact match between these classes is not a coincidence. The intention is to have a balanced dataset. That does not reflect the real distributions of positive and negative classes in live Twitter streams. It is just because balanced datasets simplify the design of most computational methods that are required for sentiment analysis. However, it is better to be aware that this balance of classes is artificial. \n",
    "\n",
    "The dataset is already downloaded in the Coursera workspace. In a local computer however, you can download the data by doing:"
   ]
  },
  {
   "cell_type": "code",
   "execution_count": null,
   "metadata": {},
   "outputs": [],
   "source": [
    "# downloads sample twitter dataset. uncomment the line below if running on a local machine.\n",
    "# nltk.download('twitter_samples')"
   ]
  },
  {
   "cell_type": "markdown",
   "metadata": {},
   "source": [
    "We can load the text fields of the positive and negative tweets by using the module's `strings()` method like this:"
   ]
  },
  {
   "cell_type": "code",
   "execution_count": 6,
   "metadata": {},
   "outputs": [],
   "source": [
    "# select the set of positive and negative tweets\n",
    "all_positive_tweets = twitter_samples.strings('positive_tweets.json')\n",
    "all_negative_tweets = twitter_samples.strings('negative_tweets.json')"
   ]
  },
  {
   "cell_type": "markdown",
   "metadata": {},
   "source": [
    "Next, we'll print a report with the number of positive and negative tweets. It is also essential to know the data structure of the datasets"
   ]
  },
  {
   "cell_type": "code",
   "execution_count": 8,
   "metadata": {},
   "outputs": [
    {
     "name": "stdout",
     "output_type": "stream",
     "text": [
      "Number of positive tweets:  5000\n",
      "Number of negative tweets:  5000\n",
      "\n",
      "The type of all_positive_tweets is:  <class 'list'>\n",
      "The type of a tweet entry is:  <class 'str'>\n"
     ]
    }
   ],
   "source": [
    "print('Number of positive tweets: ', len(all_positive_tweets))\n",
    "print('Number of negative tweets: ', len(all_negative_tweets))\n",
    "\n",
    "print('\\nThe type of all_positive_tweets is: ', type(all_positive_tweets))\n",
    "print('The type of a tweet entry is: ', type(all_negative_tweets[0]))"
   ]
  },
  {
   "cell_type": "markdown",
   "metadata": {},
   "source": [
    "We can see that the data is stored in a list and as you might expect, individual tweets are stored as strings.\n",
    "\n",
    "You can make a more visually appealing report by using Matplotlib's [pyplot](https://matplotlib.org/tutorials/introductory/pyplot.html) library. Let us see how to create a [pie chart](https://matplotlib.org/3.2.1/gallery/pie_and_polar_charts/pie_features.html#sphx-glr-gallery-pie-and-polar-charts-pie-features-py) to show the same information as above. This simple snippet will serve you in future visualizations of this kind of data."
   ]
  },
  {
   "cell_type": "code",
   "execution_count": 9,
   "metadata": {},
   "outputs": [
    {
     "data": {
      "image/png": "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