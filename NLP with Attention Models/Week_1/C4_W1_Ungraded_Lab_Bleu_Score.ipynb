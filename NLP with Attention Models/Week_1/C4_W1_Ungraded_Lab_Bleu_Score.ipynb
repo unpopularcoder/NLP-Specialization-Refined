{
 "cells": [
  {
   "cell_type": "markdown",
   "metadata": {},
   "source": [
    "# Calculating the Bilingual Evaluation Understudy (BLEU) score: Ungraded Lab"
   ]
  },
  {
   "cell_type": "markdown",
   "metadata": {},
   "source": [
    "In this ungraded lab, we will implement a popular metric for evaluating the quality of ma