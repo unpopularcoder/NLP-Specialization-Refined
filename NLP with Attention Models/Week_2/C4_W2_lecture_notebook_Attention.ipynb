{
 "cells": [
  {
   "cell_type": "markdown",
   "metadata": {},
   "source": [
    "# The Three Ways of Attention and Dot Product Attention: Ungraded Lab Notebook\n",
    "\n",
    "In this notebook you'll explore the thre