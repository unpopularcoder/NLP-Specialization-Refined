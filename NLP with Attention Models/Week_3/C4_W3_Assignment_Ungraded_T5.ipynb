{
 "cells": [
  {
   "cell_type": "markdown",
   "metadata": {},
   "source": [
    "# Assignment 3 Ungraded Sections - Part 2: T5 SQuAD Model\n",
    "\n",
    "Welcome to the part 2 of testing the models for this week's assignment. This time we will perform decoding using the T5 SQ