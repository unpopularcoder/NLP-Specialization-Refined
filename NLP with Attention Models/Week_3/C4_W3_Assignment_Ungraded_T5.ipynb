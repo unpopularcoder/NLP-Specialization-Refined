{
 "cells": [
  {
   "cell_type": "markdown",
   "metadata": {},
   "source": [
    "# Assignment 3 Ungraded Sections - Part 2: T5 SQuAD Model\n",
    "\n",
    "Welcome to the part 2 of testing the models for this week's assignment. This time we will perform decoding using the T5 SQuAD model. In this notebook we'll perform Question Answering by providing a \"Question\", its \"Context\" and see how well we get the \"Target\" answer. \n",
    "\n",
    "## Colab\n",
    "\n",
    "Since this ungraded lab takes a lot of time to run on coursera, as an alternative we have a colab prepared for you.\n",
    "\n",
    "[T5 SQuAD Model Colab](https://drive.google.com/file/d/1crITaM_gn6VGFLW70fUuWjAuwQefoBSw/view?usp=sharing)\n",
    "\n",
    "- If you run into a page that looks similar to the one below, with the option `Open with`, this would mean you need to download the `Colaboratory` app. You can do so by `Open with -> Connect more apps -> in the search bar write \"Colaboratory\" -> install`\n",
    "\n",
    "<img src = \"colab_help_1.png\"> \n",
    "\n",
    "- After installation it should look like this. Click on `Open with Google Colaboratory`\n",
    "\n",
    "<img src = \"colab_help_2.png\"> "
   ]
  },
  {
   "cell_type": "markdown",
   "metadata": {},
   "source": [
    "## Outline\n",
    "\n",
    "- [Overview](#0)\n",
    "- [Part 1: Resuming the assignment (T5 SQuAD Model)](#1)\n",
    "- [Part 2: Fine-tuning on SQuAD](#2)\n",
    "    - [2.1 Loading in the data and preprocessing](#2.1)\n",
    "    - [2.2 Decoding from a fine-tuned model](#2.2)"
   ]
  },
  {
   "cell_type": "markdown",
   "metadata": {},
   "source": [
    "<a name='0'></a>\n",
    "### Overview\n",
    "\n",
    "In this notebook you will:\n",
    "* Implement the Bidirectional Encoder Representation from Transformer (BERT) loss. \n",
    "* Use a pretrained version of the model you created in the assignment for inference."
   ]
  },
  {
   "cell_type": "markdown",
   "metadata": {},
   "source": [
    "<a name='1'></a>\n",
    "# Part 1: Getting ready\n",
    "\n",
    "Run the code cells below to import the necessary libraries and to define some functions which will be useful for decoding. The code and the functions are the same as the ones you previsouly ran on the graded assignment."
   ]
  },
  {
   "cell_type": "code",
   "execution_count": null,
   "metadata": {},
   "outputs": [],
   "source": [
    "import string\n",
    "import t5\n",
    "import numpy as np\n",
    "import trax \n",
    "from trax.supervised import decoding\n",
    "import textwrap \n",
    "\n",
    "wrapper = textwrap.TextWrapper(width=70)"
   ]
  },
  {
   "cell_type": "code",
   "execution_count": null,
   "metadata": {},
   "outputs": [],
   "source": [
    "PAD, EOS, UNK = 0, 1, 2\n",
    "\n",
    "\n",
    "def detokenize(np_array):\n",
    "    return trax.data.detokenize(\n",
    "        np_array,\n"